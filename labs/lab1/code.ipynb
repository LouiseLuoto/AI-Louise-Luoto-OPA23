{
 "cells": [
  {
   "cell_type": "markdown",
   "metadata": {},
   "source": [
    "# 1.1 - Movielens full - EDA\n",
    "Nu ska du ladda ned datasetet ml-latest.zip under sektionen \"recommended for education and\n",
    "development\". Läs in dataseten \"movies.csv\" och \"ratings.csv\" besvara på följande frågorna nedan.\n",
    "- a) Gör en EDA för att förstå datasetet. Inkludera olika slags plots. Begränsa dig inte till frågorna nedan, utan försök undersöka fler aspekter av datan."
   ]
  },
  {
   "cell_type": "code",
   "execution_count": 2,
   "metadata": {},
   "outputs": [
    {
     "name": "stderr",
     "output_type": "stream",
     "text": [
      "c:\\NBIHandelsakademin\\Github\\AI-Louise-Luoto-OPA23\\venv\\Lib\\site-packages\\fuzzywuzzy\\fuzz.py:11: UserWarning: Using slow pure-python SequenceMatcher. Install python-Levenshtein to remove this warning\n",
      "  warnings.warn('Using slow pure-python SequenceMatcher. Install python-Levenshtein to remove this warning')\n"
     ]
    }
   ],
   "source": [
    "import pandas as pd\n",
    "from scipy.sparse import csr_matrix\n",
    "from sklearn.neighbors import NearestNeighbors\n",
    "from fuzzywuzzy import process"
   ]
  },
  {
   "cell_type": "code",
   "execution_count": 3,
   "metadata": {},
   "outputs": [],
   "source": [
    "movies='../../data/ml-latest/movies.csv'\n",
    "ratings='../../data/ml-latest/ratings.csv'\n",
    "\n",
    "df_movies=pd.read_csv(movies, usecols=['movieId', 'title', 'genres'], dtype={'movieId':'int32','title':'str' })\n",
    "df_ratings=pd.read_csv(ratings, usecols=['userId', 'movieId', 'rating'], dtype={'userID':'int32', 'movieId':'int32', 'rating':'float32'})"
   ]
  },
  {
   "cell_type": "code",
   "execution_count": 4,
   "metadata": {},
   "outputs": [
    {
     "name": "stdout",
     "output_type": "stream",
     "text": [
      "(33832162, 3)\n"
     ]
    }
   ],
   "source": [
    "print(df_ratings.shape)"
   ]
  },
  {
   "cell_type": "code",
   "execution_count": 5,
   "metadata": {},
   "outputs": [
    {
     "data": {
      "text/html": [
       "<div>\n",
       "<style scoped>\n",
       "    .dataframe tbody tr th:only-of-type {\n",
       "        vertical-align: middle;\n",
       "    }\n",
       "\n",
       "    .dataframe tbody tr th {\n",
       "        vertical-align: top;\n",
       "    }\n",
       "\n",
       "    .dataframe thead th {\n",
       "        text-align: right;\n",
       "    }\n",
       "</style>\n",
       "<table border=\"1\" class=\"dataframe\">\n",
       "  <thead>\n",
       "    <tr style=\"text-align: right;\">\n",
       "      <th></th>\n",
       "      <th>userId</th>\n",
       "      <th>movieId</th>\n",
       "      <th>rating</th>\n",
       "    </tr>\n",
       "  </thead>\n",
       "  <tbody>\n",
       "    <tr>\n",
       "      <th>0</th>\n",
       "      <td>1</td>\n",
       "      <td>1</td>\n",
       "      <td>4.0</td>\n",
       "    </tr>\n",
       "    <tr>\n",
       "      <th>1</th>\n",
       "      <td>1</td>\n",
       "      <td>110</td>\n",
       "      <td>4.0</td>\n",
       "    </tr>\n",
       "    <tr>\n",
       "      <th>2</th>\n",
       "      <td>1</td>\n",
       "      <td>158</td>\n",
       "      <td>4.0</td>\n",
       "    </tr>\n",
       "    <tr>\n",
       "      <th>3</th>\n",
       "      <td>1</td>\n",
       "      <td>260</td>\n",
       "      <td>4.5</td>\n",
       "    </tr>\n",
       "    <tr>\n",
       "      <th>4</th>\n",
       "      <td>1</td>\n",
       "      <td>356</td>\n",
       "      <td>5.0</td>\n",
       "    </tr>\n",
       "    <tr>\n",
       "      <th>5</th>\n",
       "      <td>1</td>\n",
       "      <td>381</td>\n",
       "      <td>3.5</td>\n",
       "    </tr>\n",
       "    <tr>\n",
       "      <th>6</th>\n",
       "      <td>1</td>\n",
       "      <td>596</td>\n",
       "      <td>4.0</td>\n",
       "    </tr>\n",
       "    <tr>\n",
       "      <th>7</th>\n",
       "      <td>1</td>\n",
       "      <td>1036</td>\n",
       "      <td>5.0</td>\n",
       "    </tr>\n",
       "    <tr>\n",
       "      <th>8</th>\n",
       "      <td>1</td>\n",
       "      <td>1049</td>\n",
       "      <td>3.0</td>\n",
       "    </tr>\n",
       "    <tr>\n",
       "      <th>9</th>\n",
       "      <td>1</td>\n",
       "      <td>1066</td>\n",
       "      <td>4.0</td>\n",
       "    </tr>\n",
       "    <tr>\n",
       "      <th>10</th>\n",
       "      <td>1</td>\n",
       "      <td>1196</td>\n",
       "      <td>3.5</td>\n",
       "    </tr>\n",
       "    <tr>\n",
       "      <th>11</th>\n",
       "      <td>1</td>\n",
       "      <td>1200</td>\n",
       "      <td>3.5</td>\n",
       "    </tr>\n",
       "    <tr>\n",
       "      <th>12</th>\n",
       "      <td>1</td>\n",
       "      <td>1210</td>\n",
       "      <td>4.5</td>\n",
       "    </tr>\n",
       "    <tr>\n",
       "      <th>13</th>\n",
       "      <td>1</td>\n",
       "      <td>1214</td>\n",
       "      <td>4.0</td>\n",
       "    </tr>\n",
       "    <tr>\n",
       "      <th>14</th>\n",
       "      <td>1</td>\n",
       "      <td>1291</td>\n",
       "      <td>5.0</td>\n",
       "    </tr>\n",
       "    <tr>\n",
       "      <th>15</th>\n",
       "      <td>1</td>\n",
       "      <td>1293</td>\n",
       "      <td>2.0</td>\n",
       "    </tr>\n",
       "    <tr>\n",
       "      <th>16</th>\n",
       "      <td>1</td>\n",
       "      <td>1376</td>\n",
       "      <td>3.0</td>\n",
       "    </tr>\n",
       "    <tr>\n",
       "      <th>17</th>\n",
       "      <td>1</td>\n",
       "      <td>1396</td>\n",
       "      <td>3.0</td>\n",
       "    </tr>\n",
       "    <tr>\n",
       "      <th>18</th>\n",
       "      <td>1</td>\n",
       "      <td>1537</td>\n",
       "      <td>4.0</td>\n",
       "    </tr>\n",
       "    <tr>\n",
       "      <th>19</th>\n",
       "      <td>1</td>\n",
       "      <td>1909</td>\n",
       "      <td>3.0</td>\n",
       "    </tr>\n",
       "  </tbody>\n",
       "</table>\n",
       "</div>"
      ],
      "text/plain": [
       "    userId  movieId  rating\n",
       "0        1        1     4.0\n",
       "1        1      110     4.0\n",
       "2        1      158     4.0\n",
       "3        1      260     4.5\n",
       "4        1      356     5.0\n",
       "5        1      381     3.5\n",
       "6        1      596     4.0\n",
       "7        1     1036     5.0\n",
       "8        1     1049     3.0\n",
       "9        1     1066     4.0\n",
       "10       1     1196     3.5\n",
       "11       1     1200     3.5\n",
       "12       1     1210     4.5\n",
       "13       1     1214     4.0\n",
       "14       1     1291     5.0\n",
       "15       1     1293     2.0\n",
       "16       1     1376     3.0\n",
       "17       1     1396     3.0\n",
       "18       1     1537     4.0\n",
       "19       1     1909     3.0"
      ]
     },
     "execution_count": 5,
     "metadata": {},
     "output_type": "execute_result"
    }
   ],
   "source": [
    "df_ratings.head(20)"
   ]
  },
  {
   "cell_type": "markdown",
   "metadata": {},
   "source": [
    "- b) Vilka är de 10 filmerna med flest ratings?"
   ]
  },
  {
   "cell_type": "code",
   "execution_count": 25,
   "metadata": {},
   "outputs": [
    {
     "name": "stdout",
     "output_type": "stream",
     "text": [
      "                                                Title  Number of ratings\n",
      "                     Shawshank Redemption, The (1994)             122296\n",
      "                                  Forrest Gump (1994)             113581\n",
      "                                  Pulp Fiction (1994)             108756\n",
      "                                   Matrix, The (1999)             107056\n",
      "                     Silence of the Lambs, The (1991)             101802\n",
      "            Star Wars: Episode IV - A New Hope (1977)              97202\n",
      "                                    Fight Club (1999)              86207\n",
      "                              Schindler's List (1993)              84232\n",
      "                                 Jurassic Park (1993)              83026\n",
      "Star Wars: Episode V - The Empire Strikes Back (1980)              80200\n"
     ]
    }
   ],
   "source": [
    "# Count how many times each movieId appears in df_ratings\n",
    "rating_counts = df_ratings[\"movieId\"].value_counts()\n",
    "\n",
    "# Select 10 movies with the most ratings\n",
    "movies = rating_counts.head(10)\n",
    "\n",
    "# Select movies from df_movies that are among the top 10 most-rated using their movieId\n",
    "top_10_titles = df_movies[df_movies[\"movieId\"].isin(movies.index)].copy()\n",
    "\n",
    "# Lägg till en ny kolumn till top_10_titles för antalet ratings varje film fått\n",
    "top_10_titles['ratingCount'] = top_10_titles['movieId'].map(rating_counts)\n",
    "\n",
    "# Sortera top_10_titles baserat på 'ratingCount' i fallande ordning\n",
    "top_10_titles_sorted = top_10_titles.sort_values(by='ratingCount', ascending=False)\n",
    "\n",
    "# Ändra kolumnens namn från 'ratingCount' till 'Number of Ratings'\n",
    "top_10_titles_sorted = top_10_titles_sorted.rename(columns={'title': 'Title', 'ratingCount': 'Number of ratings'})\n",
    "\n",
    "# Skriv ut movieId, titel och ratingCount kolumnerna utan index\n",
    "print(top_10_titles_sorted[['Title', 'Number of ratings']].to_string(index=False))"
   ]
  },
  {
   "cell_type": "markdown",
   "metadata": {},
   "source": [
    "c) Beräkna den genomsnittliga ratingen för dessa 10 filmerna med flest ratings."
   ]
  },
  {
   "cell_type": "code",
   "execution_count": null,
   "metadata": {},
   "outputs": [],
   "source": []
  },
  {
   "cell_type": "markdown",
   "metadata": {},
   "source": [
    "d) Gör en plot över årtal och antalet filmer representerade i datasetet."
   ]
  },
  {
   "cell_type": "code",
   "execution_count": null,
   "metadata": {},
   "outputs": [],
   "source": []
  },
  {
   "cell_type": "markdown",
   "metadata": {},
   "source": [
    " e) Gör en plot över antalet ratings mot movieId."
   ]
  },
  {
   "cell_type": "code",
   "execution_count": null,
   "metadata": {},
   "outputs": [],
   "source": []
  },
  {
   "cell_type": "markdown",
   "metadata": {},
   "source": [
    "f) Beräkna genomsnittliga ratings för de top 10 filmerna med flest ratings. Gör ett stapeldiagram över\n",
    "dessa."
   ]
  },
  {
   "cell_type": "code",
   "execution_count": null,
   "metadata": {},
   "outputs": [],
   "source": []
  },
  {
   "cell_type": "markdown",
   "metadata": {},
   "source": [
    "Top 5 inom drama"
   ]
  },
  {
   "cell_type": "code",
   "execution_count": null,
   "metadata": {},
   "outputs": [],
   "source": []
  }
 ],
 "metadata": {
  "kernelspec": {
   "display_name": "venv",
   "language": "python",
   "name": "python3"
  },
  "language_info": {
   "codemirror_mode": {
    "name": "ipython",
    "version": 3
   },
   "file_extension": ".py",
   "mimetype": "text/x-python",
   "name": "python",
   "nbconvert_exporter": "python",
   "pygments_lexer": "ipython3",
   "version": "3.11.7"
  }
 },
 "nbformat": 4,
 "nbformat_minor": 2
}
