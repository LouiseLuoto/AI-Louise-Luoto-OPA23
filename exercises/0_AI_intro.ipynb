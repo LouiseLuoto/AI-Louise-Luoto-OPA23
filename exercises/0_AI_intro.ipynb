{
 "cells": [
  {
   "cell_type": "markdown",
   "metadata": {},
   "source": [
    "# 0. Glossary\n",
    "You can use an LLM for help and/or search for results online, but try to summarize the meaning in your own words, in order to properly learn the terminologies. I don't expect you to know all of them now, but after this course you should know these and many more by heart.\n",
    "- supervised learning - the algorithm is trained on a dataset that includes input and output. Such as classification och regression.\n",
    "- unsupervised learning\t- oövervakad inlärning där algoritmen har i uppgift att hitta mönster eller strukturer i dataset (utan utdata) på egen hand. Tex klustringsalgoritmer som k-means och hierarkisk klustringsanalys.\n",
    "- machine learning - maskininlärning innefattar både övervakad och oövervakad inlärning inom AI där datorer ska lära sig från data och fatta beslut utan att programmerade för varje specifik uppgift.\n",
    "- deep learning\t\n",
    "- pattern recognition\t\n",
    "- reinforcement learning\t\n",
    "- data science\t\n",
    "- data engineering\t\n",
    "- computer vision\t\n",
    "- algorithm\t\n",
    "- bias - difference between avg prediction and correct value.\n",
    "- variance - how much model changes if training on mulptiple datasets.\n",
    "- overfitting - \n",
    "- underfitting - \n",
    "- gradient descent\t\n",
    "- transfer learning\t\n",
    "- regression - \n",
    "- classification - \n",
    "- artificial neural networks\t\n",
    "- data augmentation\t\n",
    "- synthetic data\t\n",
    "- regularization\t\n",
    "- perceptron\t\n",
    "- qualitative data\t\n",
    "- quantitative data\t\n",
    "- independent variable - \n",
    "- dependent variable - \n",
    "- label - labels is used to describe och categorise data."
   ]
  },
  {
   "cell_type": "markdown",
   "metadata": {},
   "source": [
    "# 2. Regression and classification\n",
    "What is the main difference between regression and classification?\n",
    "- a) Give an example of a problem that can be solved with regression.\n",
    "    - predict how much a stock will rise or decrease.\n",
    "- b) Give an example of a problem that can be solved with classification.\n",
    "    - classification can separate e-mail and spam."
   ]
  },
  {
   "cell_type": "markdown",
   "metadata": {},
   "source": [
    "# 5. Data leakage\n",
    "What is data leakage, why is it bad and how can you avoid it?\n",
    "- ha"
   ]
  },
  {
   "cell_type": "markdown",
   "metadata": {},
   "source": []
  }
 ],
 "metadata": {
  "language_info": {
   "name": "python"
  }
 },
 "nbformat": 4,
 "nbformat_minor": 2
}
