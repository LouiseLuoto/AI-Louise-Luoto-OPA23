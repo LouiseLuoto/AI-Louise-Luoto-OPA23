{
 "cells": [
  {
   "cell_type": "markdown",
   "metadata": {},
   "source": [
    "# 0. Glossary\n",
    "- supervised learning - övervakad inlärning är en typ av maskininlärningsmetod där algoritmen tränas på ett dataset som inkluderar indata och tillhörande utdata. Tex klassificering och regression.\n",
    "- unsupervised learning\t- oövervakad inlärning där algoritmen har i uppgift att hitta mönster eller strukturer i dataset (utan utdata) på egen hand. Tex klustringsalgoritmer som k-means och hierarkisk klustringsanalys.\n",
    "- machine learning - maskininlärning innefattar både övervakad och oövervakad inlärning inom AI där datorer ska lära sig från data och fatta beslut utan att programmerade för varje specifik uppgift.\n",
    "- deep learning\t\n",
    "- pattern recognition\t\n",
    "- reinforcement learning\t\n",
    "- data science\t\n",
    "- data engineering\t\n",
    "- computer vision\t\n",
    "- algorithm\t\n",
    "- bias - difference between avg prediction and correct value.\n",
    "- variance - how much model changes if training on mulptiple datasets.\n",
    "- overfitting - \n",
    "- underfitting - \n",
    "- gradient descent\t\n",
    "- transfer learning\t\n",
    "- regression\t\n",
    "- classification\t\n",
    "- artificial neural networks\t\n",
    "- data augmentation\t\n",
    "- synthetic data\t\n",
    "- regularization\t\n",
    "- perceptron\t\n",
    "- qualitative data\t\n",
    "- quantitative data\t\n",
    "- independent variable\t\n",
    "- dependent variable\t\n",
    "- label - etiketter som används för att beskriva och kategorisera data."
   ]
  },
  {
   "cell_type": "markdown",
   "metadata": {},
   "source": []
  }
 ],
 "metadata": {
  "language_info": {
   "name": "python"
  }
 },
 "nbformat": 4,
 "nbformat_minor": 2
}
